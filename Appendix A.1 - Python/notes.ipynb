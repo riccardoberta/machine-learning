{
 "cells": [
  {
   "attachments": {},
   "cell_type": "markdown",
   "metadata": {},
   "source": [
    "# Appendix A.1 - Python\n",
    "\n",
    "[Python](https://www.python.org/) is an interpreted, high-level and general-purpose programming language, that supports multiple programming paradigms, including structured (particularly, procedural), object-oriented and functional programming. Python has a somewhat [Zen description](https://en.wikipedia.org/wiki/Zen_of_Python) of its design principles, which you can find inside the Python interpreter itself by typing **import this**\n",
    "\n",
    "One of the most discussed of these is: **there should be one—and preferably only one—obvious way to do it.** Code written in accordance with this “obvious” way (which may not be obvious at all to a newcomer) is often described as **“Pythonic.”**\n",
    "\n",
    "If you don't already have Python, I strongly recommend you install the [**Anaconda**](https://www.anaconda.com/distribution/#download-section) version, which includes many of the libraries needed for data science. Get the Python 3 version, not the Python 2 version. \n",
    "\n",
    "Every data science project will require some combination of external libraries, sometimes with specific versions that differ from the versions used for other projects. With a single Python installation, these libraries would conflict and cause all sorts of problems. The standard solution is to use **virtual environments**, which are sandboxed Python environments that maintain their own versions of Python libraries (and, depending on how you set up the environment, of Python itself). To create an (Anaconda) virtual environment, you just do the following 'conda create -n dsfs python=3.6'. As a matter of good discipline, you should always work in a virtual environment, and never using the “base” Python installation.\n",
    "\n",
    "Using Anaconda, you can also download the [**JupyterLab**](https://jupyterlab.readthedocs.io/en/stable/getting_started/overview.html) which is a web-based interactive development environment for [**Jupyter notebooks**](https://jupyter.org/): an open-source web application that allows you to create and share documents that contain live code, equations, visualizations and narrative text (just this one!). \n",
    "\n",
    "Finally, you can also use the [Google online Colab](https://colab.research.google.com/notebooks/welcome.ipynb?hl=en) tool to write and execute Python in the browser, with zero configuration required, free access to Google GPUs and easy sharing."
   ]
  },
  {
   "attachments": {},
   "cell_type": "markdown",
   "metadata": {},
   "source": [
    "## Whitespace Formatting\n",
    "\n",
    "Many languages use curly braces to delimit blocks of code. Python uses indentation. This makes Python code very readable, but it also means that you have to be very careful with your formatting."
   ]
  },
  {
   "cell_type": "code",
   "execution_count": 2,
   "metadata": {},
   "outputs": [
    {
     "name": "stdout",
     "output_type": "stream",
     "text": [
      "1\n",
      "1\n",
      "2\n",
      "2\n",
      "3\n",
      "1\n",
      "2\n",
      "1\n",
      "3\n",
      "2\n",
      "4\n",
      "2\n",
      "done looping\n"
     ]
    }
   ],
   "source": [
    "# The pound sign marks the start of a comment. Python itself\n",
    "# ignores the comments, but they're helpful for anyone \n",
    "# reading the code.\n",
    "for i in [1, 2]:\n",
    "    print(i)                    # first line in \"for i\" block\n",
    "    for j in [1, 2]:\n",
    "        print(j)                # first line in \"for j\" block\n",
    "        print(i + j)            # last line in \"for j\" block\n",
    "    print(i)                    # last line in \"for i\" block\n",
    "print(\"done looping\")"
   ]
  },
  {
   "attachments": {},
   "cell_type": "markdown",
   "metadata": {},
   "source": [
    "## Modules\n",
    "\n",
    "Certain features of Python are not loaded by default. These include both features that are included as part of the language as well as third-party features that you download yourself. In order to use these features, you’ll need to import the modules that contain them. We can use **import** to simply import the module and **as** to provide an alias to access function and constants definde inside the module.\n",
    "\n",
    "As an example, we can import the **re** is the module containing functions and constants for working with regular expressions."
   ]
  },
  {
   "cell_type": "code",
   "execution_count": 3,
   "metadata": {},
   "outputs": [
    {
     "data": {
      "text/plain": [
       "<re.Match object; span=(7, 9), match='12'>"
      ]
     },
     "execution_count": 3,
     "metadata": {},
     "output_type": "execute_result"
    }
   ],
   "source": [
    "import re as regex\n",
    "my_regex = regex.compile(\"[0-9]+\", regex.I)\n",
    "my_regex.search(\"findthe12number\")"
   ]
  },
  {
   "attachments": {},
   "cell_type": "markdown",
   "metadata": {},
   "source": [
    "If we need a few specific values from a module, we can import them explicitly and use them without qualification. For example, we can import the Counter container (that keeps track of how many times equivalent values are added) from the collections module."
   ]
  },
  {
   "cell_type": "code",
   "execution_count": 3,
   "metadata": {},
   "outputs": [
    {
     "name": "stdout",
     "output_type": "stream",
     "text": [
      "Counter({'a': 3, 'b': 2, 'c': 1, 'd': 1})\n"
     ]
    }
   ],
   "source": [
    "from collections import Counter\n",
    "my_counter = Counter()\n",
    "\n",
    "my_counter.update('abcdaab')\n",
    "print(my_counter)"
   ]
  },
  {
   "attachments": {},
   "cell_type": "markdown",
   "metadata": {},
   "source": [
    "## Functions\n",
    "\n",
    "A function is a rule for taking zero or more inputs and returning a corresponding output. In Python functions are first-class citizen, which means that we can assign them to variables and pass them into functions just like any other arguments.\n",
    "We define functions using **def**."
   ]
  },
  {
   "cell_type": "code",
   "execution_count": 4,
   "metadata": {},
   "outputs": [
    {
     "name": "stdout",
     "output_type": "stream",
     "text": [
      "8\n"
     ]
    }
   ],
   "source": [
    "def double(x):\n",
    "    \"\"\"\n",
    "    This is where you put an optional docstring that explains what the\n",
    "    function does. For example, this function multiplies its input by 2.\n",
    "    \"\"\"\n",
    "    return x * 2\n",
    "\n",
    "def apply_to_four(f):\n",
    "    \"\"\"Calls the function f with 4 as its argument\"\"\"\n",
    "    return f(4)\n",
    "\n",
    "my_double = double             # refers to the previously defined function\n",
    "x = apply_to_four(my_double) \n",
    "\n",
    "print(x)"
   ]
  },
  {
   "attachments": {},
   "cell_type": "markdown",
   "metadata": {},
   "source": [
    "We can also create short anonymous functions, or **lambdas**"
   ]
  },
  {
   "cell_type": "code",
   "execution_count": 5,
   "metadata": {},
   "outputs": [
    {
     "name": "stdout",
     "output_type": "stream",
     "text": [
      "6\n"
     ]
    }
   ],
   "source": [
    "y = apply_to_four(lambda x: x + 2)\n",
    "print(y)"
   ]
  },
  {
   "attachments": {},
   "cell_type": "markdown",
   "metadata": {},
   "source": [
    "Function parameters can also be given default arguments, which only need to be specified when you want a value other than the default."
   ]
  },
  {
   "cell_type": "code",
   "execution_count": null,
   "metadata": {},
   "outputs": [
    {
     "name": "stdout",
     "output_type": "stream",
     "text": [
      "hello\n",
      "my default message\n"
     ]
    }
   ],
   "source": [
    "def my_print(message = \"my default message\"):\n",
    "    print(message)\n",
    "\n",
    "my_print(\"hello\")   # prints 'hello'\n",
    "my_print()          # prints 'my default message'"
   ]
  },
  {
   "attachments": {},
   "cell_type": "markdown",
   "metadata": {},
   "source": [
    "It is often useful to specify arguments by name:"
   ]
  },
  {
   "cell_type": "code",
   "execution_count": null,
   "metadata": {},
   "outputs": [
    {
     "name": "stdout",
     "output_type": "stream",
     "text": [
      "Joel Grus\n",
      "Joel Something\n",
      "What's-his-name Grus\n"
     ]
    }
   ],
   "source": [
    "def full_name(first = \"What's-his-name\", last = \"Something\"):\n",
    "    return first + \" \" + last\n",
    "\n",
    "print(full_name(\"Joel\", \"Grus\")) # \"Joel Grus\"\n",
    "print(full_name(\"Joel\")) # \"Joel Something\"\n",
    "print(full_name(last=\"Grus\")) # \"What's-his-name Grus\""
   ]
  },
  {
   "attachments": {},
   "cell_type": "markdown",
   "metadata": {},
   "source": [
    "## Strings\n",
    "\n",
    "Strings can be delimited by single or double quotation marks (but the quotes have to match):"
   ]
  },
  {
   "cell_type": "code",
   "execution_count": null,
   "metadata": {},
   "outputs": [],
   "source": [
    "single_quoted_string = 'data science'\n",
    "double_quoted_string = \"data science\""
   ]
  },
  {
   "attachments": {},
   "cell_type": "markdown",
   "metadata": {},
   "source": [
    "Python uses backslashes to encode special characters, and if we want backslashes as backslashes (which you might in Windows directory names or in regular expressions), we can create raw strings using r\"\". Fanlly, we can create multiline strings using three double quotes."
   ]
  },
  {
   "cell_type": "code",
   "execution_count": null,
   "metadata": {},
   "outputs": [
    {
     "name": "stdout",
     "output_type": "stream",
     "text": [
      "\t\n",
      "\\t\n",
      "This is the first line.\n",
      "and this is the second line\n",
      "and this is the third line\n"
     ]
    }
   ],
   "source": [
    "tab_string = \"\\t\" # represents the tab character\n",
    "print(tab_string)\n",
    "\n",
    "not_tab_string = r\"\\t\" # represents the characters '\\' and 't'\n",
    "print(not_tab_string)\n",
    "\n",
    "multi_line_string = \"\"\"This is the first line.\n",
    "and this is the second line\n",
    "and this is the third line\"\"\"\n",
    "print(multi_line_string)"
   ]
  },
  {
   "attachments": {},
   "cell_type": "markdown",
   "metadata": {},
   "source": [
    "The **f-string** feature provides a simple way to substitute values into strings. For example, if we had the first name and last name given separately:"
   ]
  },
  {
   "cell_type": "code",
   "execution_count": null,
   "metadata": {},
   "outputs": [
    {
     "name": "stdout",
     "output_type": "stream",
     "text": [
      "Joel Grus\n"
     ]
    }
   ],
   "source": [
    "first_name = \"Joel\"\n",
    "last_name = \"Grus\"\n",
    "\n",
    "full_name3 = f\"{first_name} {last_name}\"\n",
    "\n",
    "print(full_name3)"
   ]
  },
  {
   "attachments": {},
   "cell_type": "markdown",
   "metadata": {},
   "source": [
    "## Exceptions\n",
    "\n",
    "When something goes wrong, Python raises an exception. Unhandled, exceptions will cause the program to crash. We can handle them using **try and except**"
   ]
  },
  {
   "cell_type": "code",
   "execution_count": null,
   "metadata": {},
   "outputs": [
    {
     "name": "stdout",
     "output_type": "stream",
     "text": [
      "cannot divide by zero\n"
     ]
    }
   ],
   "source": [
    "try:\n",
    "    print(0 / 0)\n",
    "except ZeroDivisionError:\n",
    "    print(\"cannot divide by zero\")"
   ]
  },
  {
   "attachments": {},
   "cell_type": "markdown",
   "metadata": {},
   "source": [
    "## List\n",
    "\n",
    "Probably the most fundamental data structure in Python is the **list**, which is simply an ordered collection (it is similar to what in other languages might be called an array, but with some added functionality)"
   ]
  },
  {
   "cell_type": "code",
   "execution_count": null,
   "metadata": {},
   "outputs": [
    {
     "name": "stdout",
     "output_type": "stream",
     "text": [
      "3\n",
      "6\n"
     ]
    }
   ],
   "source": [
    "integer_list = [1, 2, 3]\n",
    "heterogeneous_list = [\"string\", 0.1, True]\n",
    "list_of_lists = [integer_list, heterogeneous_list, []]\n",
    "\n",
    "list_length = len(integer_list) # equals 3\n",
    "list_sum = sum(integer_list) # equals 6\n",
    "\n",
    "print(list_length)\n",
    "print(list_sum)"
   ]
  },
  {
   "attachments": {},
   "cell_type": "markdown",
   "metadata": {},
   "source": [
    "We can get or set the $n_{th}$ element of a list with square brackets. We can also use square brackets to **slice lists**. The slice $i:j$ means all elements from $i$ (**inclusive**) to $j$ (**not inclusive**). If you leave off the start of the slice, you’ll slice from the beginning of the list, and if you leave of the end of the slice, you’ll slice until the end of the list."
   ]
  },
  {
   "cell_type": "code",
   "execution_count": 3,
   "metadata": {},
   "outputs": [
    {
     "name": "stdout",
     "output_type": "stream",
     "text": [
      "[-1, 1, 2]\n",
      "[3, 4, 5, 6, 7, 8, 9]\n",
      "[1, 2, 3, 4]\n",
      "[7, 8, 9]\n",
      "[1, 2, 3, 4, 5, 6, 7, 8]\n"
     ]
    }
   ],
   "source": [
    "x = [0, 1, 2, 3, 4, 5, 6, 7, 8, 9]\n",
    "\n",
    "zero = x[0] # equals 0, lists are 0-indexed\n",
    "one = x[1] # equals 1\n",
    "nine = x[-1] # equals 9, 'Pythonic' for last element\n",
    "eight = x[-2] # equals 8, 'Pythonic' for next-to-last element\n",
    "\n",
    "x[0] = -1 # now x is [-1, 1, 2, 3, ..., 9]\n",
    "\n",
    "first_three = x[:3] # [-1, 1, 2]\n",
    "three_to_end = x[3:] # [3, 4, ..., 9]\n",
    "one_to_four = x[1:5] # [1, 2, 3, 4]\n",
    "last_three = x[-3:] # [7, 8, 9]\n",
    "without_first_and_last = x[1:-1] # [1, 2, ..., 8]\n",
    "\n",
    "print(first_three)\n",
    "print(three_to_end)\n",
    "print(one_to_four)\n",
    "print(last_three)\n",
    "print(without_first_and_last)"
   ]
  },
  {
   "attachments": {},
   "cell_type": "markdown",
   "metadata": {},
   "source": [
    "Python has an **in** operator to check for list membership. This check involves examining the elements of the list one at a time, which means that you probably shouldn’t use it unless you know your list is pretty small (or unless you don’t care how long the check takes)."
   ]
  },
  {
   "cell_type": "code",
   "execution_count": 4,
   "metadata": {},
   "outputs": [
    {
     "data": {
      "text/plain": [
       "False"
      ]
     },
     "execution_count": 4,
     "metadata": {},
     "output_type": "execute_result"
    }
   ],
   "source": [
    "1 in [1, 2, 3] # True\n",
    "0 in [1, 2, 3] # False"
   ]
  },
  {
   "attachments": {},
   "cell_type": "markdown",
   "metadata": {},
   "source": [
    "It is easy to concatenate lists together. If we want to modify a list in place, you can use **extend** to add items from another collection. Instead, if we don’t want to modify the list, we can use **list addition**"
   ]
  },
  {
   "cell_type": "code",
   "execution_count": 5,
   "metadata": {},
   "outputs": [
    {
     "name": "stdout",
     "output_type": "stream",
     "text": [
      "x =  [1, 2, 3, 4, 5, 6]\n",
      "x =  [1, 2, 3]\n",
      "y =  [1, 2, 3, 4, 5, 6]\n"
     ]
    }
   ],
   "source": [
    "x = [1, 2, 3]\n",
    "x.extend([4, 5, 6]) # x is now [1, 2, 3, 4, 5, 6]\n",
    "print(\"x = \", x)\n",
    "\n",
    "x = [1, 2, 3]\n",
    "y = x + [4, 5, 6] # y is [1, 2, 3, 4, 5, 6]; x is unchanged\n",
    "\n",
    "print(\"x = \",x)\n",
    "print(\"y = \",y)"
   ]
  },
  {
   "attachments": {},
   "cell_type": "markdown",
   "metadata": {},
   "source": [
    "It’s often convenient to unpack a list when we know how many elements it contains."
   ]
  },
  {
   "cell_type": "code",
   "execution_count": 6,
   "metadata": {},
   "outputs": [
    {
     "name": "stdout",
     "output_type": "stream",
     "text": [
      "1\n",
      "2\n"
     ]
    }
   ],
   "source": [
    "x, y = [1, 2] # now x is 1, y is 2\n",
    "\n",
    "print(x)\n",
    "print(y)"
   ]
  },
  {
   "attachments": {},
   "cell_type": "markdown",
   "metadata": {},
   "source": [
    "## Tuples\n",
    "\n",
    "Tuples are lists’ **immutable** cousins. Pretty much anything you can do to a list that doesn’t involve modifying it, you can do to a tuple. You specify a tuple by using parentheses (or nothing) instead of square brackets. In particular, tuples are a convenient way to return multiple values from functions and for multiple assignments."
   ]
  },
  {
   "cell_type": "code",
   "execution_count": 7,
   "metadata": {},
   "outputs": [
    {
     "name": "stdout",
     "output_type": "stream",
     "text": [
      "cannot modify a tuple\n"
     ]
    }
   ],
   "source": [
    "my_tuple = (1, 2)\n",
    "other_tuple = 3, 4\n",
    "\n",
    "try:\n",
    "    my_tuple[1] = 3\n",
    "except TypeError:\n",
    "    print(\"cannot modify a tuple\")"
   ]
  },
  {
   "cell_type": "code",
   "execution_count": 9,
   "metadata": {},
   "outputs": [
    {
     "name": "stdout",
     "output_type": "stream",
     "text": [
      "(5, 6)\n",
      "15\n",
      "50\n"
     ]
    }
   ],
   "source": [
    "def sum_and_product(x, y):\n",
    "    return (x + y), (x * y)\n",
    "\n",
    "sp = sum_and_product(2, 3) # sp is (5, 6)\n",
    "s, p = sum_and_product(5, 10) # s is 15, p is 50\n",
    "\n",
    "print(sp)\n",
    "print(s)\n",
    "print(p)"
   ]
  },
  {
   "cell_type": "code",
   "execution_count": 10,
   "metadata": {},
   "outputs": [
    {
     "name": "stdout",
     "output_type": "stream",
     "text": [
      "2\n",
      "1\n"
     ]
    }
   ],
   "source": [
    "x, y = 1, 2 # now x is 1, y is 2\n",
    "x, y = y, x # Pythonic way to swap variables; now x is 2, y is 1\n",
    "\n",
    "print(x)\n",
    "print(y)"
   ]
  },
  {
   "attachments": {},
   "cell_type": "markdown",
   "metadata": {},
   "source": [
    "## Dictionaries\n",
    "\n",
    "Another fundamental data structure is a dictionary, which associates values with keys and allows you to quickly retrieve the value corresponding to a given key. We can look at the value for a key using square brackets."
   ]
  },
  {
   "cell_type": "code",
   "execution_count": 11,
   "metadata": {},
   "outputs": [
    {
     "name": "stdout",
     "output_type": "stream",
     "text": [
      "80\n"
     ]
    }
   ],
   "source": [
    "grades = {\"Joel\": 80, \"Tim\": 95}\n",
    "\n",
    "joels_grade = grades[\"Joel\"]\n",
    "print(joels_grade)"
   ]
  },
  {
   "attachments": {},
   "cell_type": "markdown",
   "metadata": {},
   "source": [
    "We get a KeyError if you ask for a key that’s not in the dictionary. There is also a **get method** that returns a default value (instead of raising an exception) when we look up a key that’s not in the dictionary. However, we can also check for the existence of a key using in."
   ]
  },
  {
   "cell_type": "code",
   "execution_count": 12,
   "metadata": {},
   "outputs": [
    {
     "name": "stdout",
     "output_type": "stream",
     "text": [
      "no grade for Kate!\n",
      "80\n",
      "0\n",
      "None\n"
     ]
    }
   ],
   "source": [
    "try:\n",
    "    kates_grade = grades[\"Kate\"]\n",
    "except KeyError:\n",
    "    print(\"no grade for Kate!\")\n",
    "    \n",
    "joel_has_grade = \"Joel\" in grades # True\n",
    "kate_has_grade = \"Kate\" in grades # False\n",
    "\n",
    "joels_grade = grades.get(\"Joel\", 0) # equals 80\n",
    "kates_grade = grades.get(\"Kate\", 0) # equals 0\n",
    "no_ones_grade = grades.get(\"No One\") # default is None\n",
    "\n",
    "print(joels_grade)\n",
    "print(kates_grade)\n",
    "print(no_ones_grade)"
   ]
  },
  {
   "attachments": {},
   "cell_type": "markdown",
   "metadata": {},
   "source": [
    "We can assign key/value pairs using the same square brackets:"
   ]
  },
  {
   "cell_type": "code",
   "execution_count": 13,
   "metadata": {},
   "outputs": [
    {
     "name": "stdout",
     "output_type": "stream",
     "text": [
      "{'Joel': 80, 'Tim': 99, 'Kate': 100}\n"
     ]
    }
   ],
   "source": [
    "grades[\"Tim\"] = 99 # replaces the old value\n",
    "grades[\"Kate\"] = 100 # adds a third entry\n",
    "\n",
    "print(grades)"
   ]
  },
  {
   "attachments": {},
   "cell_type": "markdown",
   "metadata": {},
   "source": [
    "Besides looking for specific keys, we can look at all of them"
   ]
  },
  {
   "cell_type": "code",
   "execution_count": 24,
   "metadata": {},
   "outputs": [
    {
     "name": "stdout",
     "output_type": "stream",
     "text": [
      "dict_keys(['Joel', 'Tim', 'Kate'])\n",
      "dict_values([80, 99, 100])\n",
      "dict_items([('Joel', 80), ('Tim', 99), ('Kate', 100)])\n"
     ]
    }
   ],
   "source": [
    "keys = grades.keys() # iterable for the keys\n",
    "values = grades.values() # iterable for the values\n",
    "items = grades.items() # iterable for the (key, value) tuples\n",
    "\n",
    "print(keys)\n",
    "print(values)\n",
    "print(items)"
   ]
  },
  {
   "attachments": {},
   "cell_type": "markdown",
   "metadata": {},
   "source": [
    "A **defaultdict** is like a regular dictionary, except that when you try to look up a key it doesn’t contain, it first adds a value for it using a zero-argument function you provided when you created it. In order to use defaultdicts, you have to import them from **collections**. This will be useful when we’re using dictionaries to “collect” results by some key and don’t want to have to check every time to see if the key exists yet."
   ]
  },
  {
   "cell_type": "code",
   "execution_count": 15,
   "metadata": {},
   "outputs": [
    {
     "name": "stdout",
     "output_type": "stream",
     "text": [
      "defaultdict(<class 'int'>, {'data': 1, 'science': 2, 'from': 1, 'scratch': 1})\n"
     ]
    }
   ],
   "source": [
    "from collections import defaultdict\n",
    "\n",
    "document = [\"data\", \"science\", \"from\", \"scratch\", \"science\"]\n",
    "\n",
    "word_counts = defaultdict(int) # int() produces 0\n",
    "for word in document:\n",
    "    word_counts[word] += 1\n",
    "    \n",
    "print(word_counts)   "
   ]
  },
  {
   "attachments": {},
   "cell_type": "markdown",
   "metadata": {},
   "source": [
    "## Counters\n",
    "\n",
    "A **Counter** turns a sequence of values into a defaultdict-like object mapping keys to counts. This gives us a very simple way to solve prolems like the word counts one. A Counter instance has a **most_common** method that is frequently useful."
   ]
  },
  {
   "cell_type": "code",
   "execution_count": 16,
   "metadata": {},
   "outputs": [
    {
     "name": "stdout",
     "output_type": "stream",
     "text": [
      "Counter({0: 2, 1: 1, 2: 1})\n",
      "Counter({'science': 2, 'data': 1, 'from': 1, 'scratch': 1})\n",
      "science 2\n",
      "data 1\n"
     ]
    }
   ],
   "source": [
    "from collections import Counter\n",
    "\n",
    "c = Counter([0, 1, 2, 0])\n",
    "print(c)\n",
    "\n",
    "word_counts = Counter(document)\n",
    "print(word_counts)\n",
    "\n",
    "for word, count in word_counts.most_common(2):\n",
    "    print(word, count)"
   ]
  },
  {
   "attachments": {},
   "cell_type": "markdown",
   "metadata": {},
   "source": [
    "## Sets\n",
    "\n",
    "Another useful data structure is set, which represents a collection of distinct elements. We’ll use sets for two main reasons. If we have a large collection of items that we want to use for membership tests, a set is more appropriate than a list. The second reason is to find the distinct items in a collection."
   ]
  },
  {
   "cell_type": "code",
   "execution_count": 27,
   "metadata": {},
   "outputs": [
    {
     "name": "stdout",
     "output_type": "stream",
     "text": [
      "{1, 2, 3}\n"
     ]
    }
   ],
   "source": [
    "hundreds_of_other_words = [] \n",
    "stopwords_list = [\"a\", \"an\", \"at\"] + hundreds_of_other_words + [\"yet\", \"you\"]\n",
    "\"zip\" in stopwords_list # False, but have to check every element\n",
    "\n",
    "stopwords_set = set(stopwords_list)\n",
    "\"zip\" in stopwords_set # very fast to check\n",
    "\n",
    "item_list = [1, 2, 3, 1, 2, 3]\n",
    "item_set = set(item_list) # {1, 2, 3}\n",
    "print(item_set)"
   ]
  },
  {
   "attachments": {},
   "cell_type": "markdown",
   "metadata": {},
   "source": [
    "## Control Flow\n",
    "\n",
    "As in most programming languages, we can perform an action conditionally using **if**. We can also write a ternary **if-then-else** on one line"
   ]
  },
  {
   "cell_type": "code",
   "execution_count": 17,
   "metadata": {},
   "outputs": [
    {
     "name": "stdout",
     "output_type": "stream",
     "text": [
      "when all else fails use else (if you want to)\n",
      "even\n"
     ]
    }
   ],
   "source": [
    "if 1 > 2:\n",
    "    message = \"if only 1 were greater than two...\"\n",
    "elif 1 > 3:\n",
    "    message = \"elif stands for 'else if'\"\n",
    "else:\n",
    "    message = \"when all else fails use else (if you want to)\"\n",
    "print(message);\n",
    "\n",
    "x=10\n",
    "parity = \"even\" if x % 2 == 0 else \"odd\"\n",
    "print(parity)"
   ]
  },
  {
   "attachments": {},
   "cell_type": "markdown",
   "metadata": {},
   "source": [
    "Python has a **while** loop, although more often we’ll use **for in**. If we need more complex logic, we can use **continue** and **break**."
   ]
  },
  {
   "cell_type": "code",
   "execution_count": 18,
   "metadata": {},
   "outputs": [
    {
     "name": "stdout",
     "output_type": "stream",
     "text": [
      "0 is less than 5\n",
      "1 is less than 5\n",
      "2 is less than 5\n",
      "3 is less than 5\n",
      "4 is less than 5\n",
      "0 is less than 5\n",
      "1 is less than 5\n",
      "2 is less than 5\n",
      "3 is less than 5\n",
      "4 is less than 5\n"
     ]
    }
   ],
   "source": [
    "x = 0\n",
    "while x < 5:\n",
    "    print(f\"{x} is less than 5\")\n",
    "    x += 1\n",
    "    \n",
    "    \n",
    "for x in range(5):\n",
    "    print(f\"{x} is less than 5\")"
   ]
  },
  {
   "attachments": {},
   "cell_type": "markdown",
   "metadata": {},
   "source": [
    "## Truthiness\n",
    "\n",
    "Booleans in Python work as in most other languages, except that they’re capitalized **True** and **False**. Python uses the value **None** to indicate a nonexistent value (it is similar to other languages’ null). Python lets you use any value where it expects a Boolean. The following are all “falsy”: False, None, [] (an empty list) ,{} (an empty dict), \"\", set(), 0, 0.0. Pretty much anything else gets treated as True. This allows you to easily use if statements to test for empty lists, empty strings, empty dictionaries, and so on."
   ]
  },
  {
   "attachments": {},
   "cell_type": "markdown",
   "metadata": {},
   "source": [
    "## Sorting\n",
    "\n",
    "Every Python list has a **sort method** that sorts it in place. If you don’t want to mess up your list, you can use the **sorted function**, which returns a new list. By default, these functions sort a list from smallest to largest based on naively comparing the elements to one another. If we needs elements sorted from largest to smallest, we can specify a **reverse** parameter. And instead of comparing the elements themselves, we can compare the results of a function that we can specify with **key**"
   ]
  },
  {
   "cell_type": "code",
   "execution_count": 19,
   "metadata": {},
   "outputs": [
    {
     "name": "stdout",
     "output_type": "stream",
     "text": [
      "[-4, 3, -2, 1]\n",
      "[('science', 2), ('data', 1), ('from', 1), ('scratch', 1)]\n"
     ]
    }
   ],
   "source": [
    "x = [4, 1, 2, 3]\n",
    "y = sorted(x) # y is [1, 2, 3, 4], x is unchanged\n",
    "x.sort() # now x is [1, 2, 3, 4]\n",
    "\n",
    "# sort the list by absolute value from largest to smallest\n",
    "x = sorted([-4, 1, -2, 3], key=abs, reverse=True) # is [-4, 3, -2, 1]\n",
    "print(x)\n",
    "\n",
    "# sort the words and counts from highest count to lowest\n",
    "wc = sorted(word_counts.items(), key=lambda word_and_count: word_and_count[1], reverse=True)\n",
    "print(wc)"
   ]
  },
  {
   "attachments": {},
   "cell_type": "markdown",
   "metadata": {},
   "source": [
    "## List Comprehensions\n",
    "\n",
    "Frequently, you’ll want to transform a list into another list by choosing only certain elements, by transforming elements, or both. The Pythonic way to do this is with list comprehensions."
   ]
  },
  {
   "cell_type": "code",
   "execution_count": 20,
   "metadata": {},
   "outputs": [
    {
     "name": "stdout",
     "output_type": "stream",
     "text": [
      "[0, 2, 4]\n",
      "[0, 1, 4, 9, 16]\n",
      "[0, 4, 16]\n",
      "[(0, 0), (0, 1), (0, 2), (0, 3), (0, 4), (0, 5), (0, 6), (0, 7), (0, 8), (0, 9), (1, 0), (1, 1), (1, 2), (1, 3), (1, 4), (1, 5), (1, 6), (1, 7), (1, 8), (1, 9), (2, 0), (2, 1), (2, 2), (2, 3), (2, 4), (2, 5), (2, 6), (2, 7), (2, 8), (2, 9), (3, 0), (3, 1), (3, 2), (3, 3), (3, 4), (3, 5), (3, 6), (3, 7), (3, 8), (3, 9), (4, 0), (4, 1), (4, 2), (4, 3), (4, 4), (4, 5), (4, 6), (4, 7), (4, 8), (4, 9), (5, 0), (5, 1), (5, 2), (5, 3), (5, 4), (5, 5), (5, 6), (5, 7), (5, 8), (5, 9), (6, 0), (6, 1), (6, 2), (6, 3), (6, 4), (6, 5), (6, 6), (6, 7), (6, 8), (6, 9), (7, 0), (7, 1), (7, 2), (7, 3), (7, 4), (7, 5), (7, 6), (7, 7), (7, 8), (7, 9), (8, 0), (8, 1), (8, 2), (8, 3), (8, 4), (8, 5), (8, 6), (8, 7), (8, 8), (8, 9), (9, 0), (9, 1), (9, 2), (9, 3), (9, 4), (9, 5), (9, 6), (9, 7), (9, 8), (9, 9)]\n"
     ]
    }
   ],
   "source": [
    "even_numbers = [x for x in range(5) if x % 2 == 0] # [0, 2, 4]\n",
    "print(even_numbers)\n",
    "\n",
    "squares = [x * x for x in range(5)] # [0, 1, 4, 9, 16]\n",
    "print(squares)\n",
    "\n",
    "even_squares = [x * x for x in even_numbers] # [0, 4, 16]\n",
    "print(even_squares)\n",
    "\n",
    "pairs = [(x, y)\n",
    "         for x in range(10) \n",
    "         for y in range(10)] # 100 pairs (0,0) (0,1) ... (9,8), (9,9)\n",
    "print(pairs)"
   ]
  },
  {
   "attachments": {},
   "cell_type": "markdown",
   "metadata": {},
   "source": [
    "## Automated Testing\n",
    "\n",
    "How can we be confident our code is correct? One way is with automated tests. There are elaborate frameworks for writing and running tests, but the simpler one is to use **assert statements**, which will cause our code to raise an **AssertionError** if our specified condition is not truthy.\n",
    "\n",
    "One use is to assert that functions we write are doing what you expect them to, another less common use is to assert things about inputs to functions."
   ]
  },
  {
   "cell_type": "code",
   "execution_count": 23,
   "metadata": {},
   "outputs": [],
   "source": [
    "def smallest_item(xs):\n",
    "    assert xs, \"empty list has no smallest item\"\n",
    "    return min(xs)\n",
    "\n",
    "assert smallest_item([10, 20, 5, 40]) == 5\n",
    "assert smallest_item([1, 0, -1, 2]) == -1"
   ]
  },
  {
   "attachments": {},
   "cell_type": "markdown",
   "metadata": {},
   "source": [
    "## OOP support\n",
    "\n",
    "Like many languages, Python allows us to define **classes** that encapsulate data and the functions that operate on them. To define a class, we use the **class keyword** and a PascalCase name. A class contains zero or more **member functions**, by convention, each takes a first parameter, self, that refers to the particular class instance. Normally, a class has a **constructor** (named __init__). It takes whatever parameters we need to construct an instance of our class and does whatever setup you need. Notice that the contructor name starts and ends with **double underscores**. Methods of this type are sometimes called **dunder** methods (double-UNDERscore) and represent special behaviors. Another such method is __repr__, which produces the string representation of a class instance.\n",
    "\n",
    "We construct instances of the class using just the class name. Class methods whose names start with an underscore are—by convention—considered **private** and users of the class are not supposed to directly call them. However, Python will not stop users from calling them."
   ]
  },
  {
   "cell_type": "code",
   "execution_count": 24,
   "metadata": {},
   "outputs": [],
   "source": [
    "class CountingClicker:\n",
    "    \"\"\"A class can/should have a docstring, just like a function\"\"\"\n",
    "    \n",
    "    def __init__(self, count = 0):\n",
    "        self.count = count\n",
    "    \n",
    "    def __repr__(self):\n",
    "        return f\"CountingClicker(count={self.count})\"\n",
    "    \n",
    "    def click(self, num_times = 1):\n",
    "        \"\"\"Click the clicker some number of times.\"\"\"\n",
    "        self.count += num_times\n",
    "\n",
    "    def read(self):\n",
    "        return self.count\n",
    "\n",
    "    def reset(self):\n",
    "        self.count = 0\n",
    "\n",
    "clicker1 = CountingClicker() # initialized to 0\n",
    "clicker2 = CountingClicker(100) # starts with count=100\n",
    "clicker3 = CountingClicker(count=100) # more explicit way of doing the same"
   ]
  },
  {
   "attachments": {},
   "cell_type": "markdown",
   "metadata": {},
   "source": [
    "Having defined it, let’s use assert to write some test cases for our class. Writing tests help us be **confident** that our code is working the way it’s designed to, and that it remains doing so whenever we make changes to it."
   ]
  },
  {
   "cell_type": "code",
   "execution_count": 25,
   "metadata": {},
   "outputs": [],
   "source": [
    "clicker = CountingClicker()\n",
    "assert clicker.read() == 0, \"clicker should start with count 0\"\n",
    "\n",
    "clicker.click()\n",
    "clicker.click()\n",
    "assert clicker.read() == 2, \"after two clicks, clicker should have count 2\"\n",
    "\n",
    "clicker.reset()\n",
    "assert clicker.read() == 0, \"after reset, clicker should be back to 0\""
   ]
  },
  {
   "attachments": {},
   "cell_type": "markdown",
   "metadata": {},
   "source": [
    "## Iterables and Generators\n",
    "\n",
    "One nice thing about a list is that you can retrieve specific elements by their indices. But we don’t always need this! A list of a billion numbers takes up a lot of memory. If we only want the elements one at a time, there’s no good reason to keep them all around. If you only end up needing the first several elements, generating the entire billion is hugely wasteful. Often all we need is to **iterate over the collection** using for in. In this case, we can create **generators**, which can be iterated over just like lists but generate their values **lazily on demand**. One way to create generators is with functions and the **yield operator**"
   ]
  },
  {
   "cell_type": "code",
   "execution_count": 35,
   "metadata": {},
   "outputs": [
    {
     "name": "stdout",
     "output_type": "stream",
     "text": [
      "i: 0\n",
      "i: 1\n",
      "i: 2\n",
      "i: 3\n",
      "i: 4\n"
     ]
    }
   ],
   "source": [
    "def generate_range(n):\n",
    "    \"\"\"returns 1, 2, 3, ...\"\"\"\n",
    "    i = 0\n",
    "    while i<n:\n",
    "        yield i # every call to yield produces a value of the generator\n",
    "        i += 1\n",
    "        \n",
    "\n",
    "for i in generate_range(5):\n",
    "    print(f\"i: {i}\")"
   ]
  },
  {
   "attachments": {},
   "cell_type": "markdown",
   "metadata": {},
   "source": [
    "The flip side of laziness is that we can only iterate through a generator once. If we need to iterate through something multiple times, we need to either re-create the generator each time or use a list. If generating the values is expensive, that might be a good reason to use a list instead."
   ]
  },
  {
   "attachments": {},
   "cell_type": "markdown",
   "metadata": {},
   "source": [
    "Not infrequently, when we’re iterating over a list or a generator we’ll want not just the values but also their indices. For this common case Python provides an **enumerate function**, which turns values into pairs (index, value):"
   ]
  },
  {
   "cell_type": "code",
   "execution_count": 36,
   "metadata": {},
   "outputs": [
    {
     "name": "stdout",
     "output_type": "stream",
     "text": [
      "name 0 is Alice\n",
      "name 1 is Bob\n",
      "name 2 is Charlie\n",
      "name 3 is Debbie\n"
     ]
    }
   ],
   "source": [
    "names = [\"Alice\", \"Bob\", \"Charlie\", \"Debbie\"]\n",
    "\n",
    "for i, name in enumerate(names):\n",
    "    print(f\"name {i} is {name}\")\n"
   ]
  },
  {
   "attachments": {},
   "cell_type": "markdown",
   "metadata": {},
   "source": [
    "## Randomness\n",
    "\n",
    "We will frequently need to generate random numbers, which we can do with the **random module**. The **random()** function produces numbers uniformly between 0 and 1. Obviously, the random module actually produces **pseudo-random** (that is, deterministic) numbers based on an internal state that you can set with **random.seed()** if we need reproducible results. We can use **randrange()**, which takes either one or two arguments and returns an element chosen randomly from the corresponding range."
   ]
  },
  {
   "cell_type": "code",
   "execution_count": 37,
   "metadata": {},
   "outputs": [
    {
     "name": "stdout",
     "output_type": "stream",
     "text": [
      "[0.5714025946899135, 0.4288890546751146, 0.5780913011344704, 0.20609823213950174]\n"
     ]
    },
    {
     "data": {
      "text/plain": [
       "4"
      ]
     },
     "execution_count": 37,
     "metadata": {},
     "output_type": "execute_result"
    }
   ],
   "source": [
    "import random\n",
    "\n",
    "random.seed(10) # this ensures we get the same results every time\n",
    "four_uniform_randoms = [random.random() for _ in range(4)]\n",
    "\n",
    "print(four_uniform_randoms)\n",
    "\n",
    "random.randrange(10) # choose randomly from range(10) = [0, 1, ..., 9]\n",
    "random.randrange(3, 6) # choose randomly from range(3, 6) = [3, 4, 5]"
   ]
  },
  {
   "attachments": {},
   "cell_type": "markdown",
   "metadata": {},
   "source": [
    "There are a few more methods that are convenient. For example, **shuffle()** randomly reorders the elements of a list; **choice()** randomly picks one element from a list and **sample()** to choose a sample of elements without replacement (i.e., with no duplicates)."
   ]
  },
  {
   "cell_type": "code",
   "execution_count": 38,
   "metadata": {},
   "outputs": [
    {
     "name": "stdout",
     "output_type": "stream",
     "text": [
      "[4, 5, 6, 7, 2, 9, 10, 8, 1, 3]\n",
      "Alice\n",
      "[38, 22, 24, 26, 18, 52]\n"
     ]
    }
   ],
   "source": [
    "up_to_ten = [1, 2, 3, 4, 5, 6, 7, 8, 9, 10]\n",
    "random.shuffle(up_to_ten)\n",
    "print(up_to_ten)\n",
    "\n",
    "my_best_friend = random.choice([\"Alice\", \"Bob\", \"Charlie\"])\n",
    "print(my_best_friend)\n",
    "\n",
    "lottery_numbers = range(60)\n",
    "winning_numbers = random.sample(lottery_numbers, 6)\n",
    "print(winning_numbers)"
   ]
  },
  {
   "attachments": {},
   "cell_type": "markdown",
   "metadata": {},
   "source": [
    "## Zip\n",
    "\n",
    "Often we will need to zip two or more iterables together. The **zip function** transforms multiple iterables into a single iterable of tuples. If the lists are different lengths, zip stops as soon as the first list ends."
   ]
  },
  {
   "cell_type": "code",
   "execution_count": 39,
   "metadata": {},
   "outputs": [
    {
     "name": "stdout",
     "output_type": "stream",
     "text": [
      "element 0 is ('a', 1)\n",
      "element 1 is ('b', 2)\n",
      "element 2 is ('c', 3)\n"
     ]
    }
   ],
   "source": [
    "list1 = ['a', 'b', 'c']\n",
    "list2 = [1, 2, 3]\n",
    "\n",
    "zipped = zip(list1, list2) \n",
    "\n",
    "for i, element in enumerate(zipped):\n",
    "    print(f\"element {i} is {element}\")"
   ]
  },
  {
   "attachments": {},
   "cell_type": "markdown",
   "metadata": {},
   "source": [
    "You can also unzip a list using a strange trick. The **asterisk** performs **argument unpacking**, which uses the elements of pairs as individual arguments to zip. "
   ]
  },
  {
   "cell_type": "code",
   "execution_count": 40,
   "metadata": {},
   "outputs": [
    {
     "name": "stdout",
     "output_type": "stream",
     "text": [
      "('a', 'b', 'c')\n",
      "(1, 2, 3)\n"
     ]
    }
   ],
   "source": [
    "pairs = [('a', 1), ('b', 2), ('c', 3)]\n",
    "letters, numbers = zip(*pairs)\n",
    "print(letters)\n",
    "print(numbers)"
   ]
  },
  {
   "attachments": {},
   "cell_type": "markdown",
   "metadata": {},
   "source": [
    "When we need to specify a function that takes arbitrary arguments, we can use \n",
    "argument unpacking and a little bit of magic."
   ]
  },
  {
   "cell_type": "code",
   "execution_count": 41,
   "metadata": {},
   "outputs": [
    {
     "name": "stdout",
     "output_type": "stream",
     "text": [
      "unnamed args: (1, 2)\n",
      "keyword args: {'key': 'word', 'key2': 'word2'}\n"
     ]
    }
   ],
   "source": [
    "def magic(*args, **kwargs):\n",
    "    print(\"unnamed args:\", args)\n",
    "    print(\"keyword args:\", kwargs)\n",
    "\n",
    "magic(1, 2, key=\"word\", key2=\"word2\")"
   ]
  },
  {
   "attachments": {},
   "cell_type": "markdown",
   "metadata": {},
   "source": [
    "When we define a function like this, args is a tuple of its unnamed arguments and kwargs is a dict of its named arguments.\n",
    "\n",
    "As a general rule, our code will be more correct and more readable if we are explicit about what sorts of arguments our functions require; accordingly, we will use args and kwargs only when we have no other option."
   ]
  },
  {
   "attachments": {},
   "cell_type": "markdown",
   "metadata": {},
   "source": [
    "## Type Annotations\n",
    "\n",
    "Python is a dynamically typed language. That means that, in general, it doesn’t care about the types of objects we use, as long as we use them in valid ways. However, there is the possibility to add **type annotations** (also known as **type signatures**) to indicate the datatypes of variables and input/outputs of functions and methods.\n",
    "\n",
    "There are some good reasons to use type annotations in Python code: types are an important form of documentation; there are external tools (the most popular is **mypy**) that will read code, inspect the type annotations, and let we know about type errors before we ever run code; having to think about the types in our code  forces us to design cleaner functions and interfaces.\n",
    "\n",
    "For built-in types (like int, bool, float, etc) we just use the type itself as the\n",
    "annotation. For other types, the **typing module** provides a number of parameterized types that we can use to do just this."
   ]
  },
  {
   "cell_type": "code",
   "execution_count": 42,
   "metadata": {},
   "outputs": [],
   "source": [
    "def total(xs: list) -> float:\n",
    "    return sum(total)\n",
    "\n",
    "from typing import List\n",
    "def total(xs: List[float]) -> float:\n",
    "    return sum(total)\n",
    "\n",
    "from typing import Optional\n",
    "values: List[int] = []\n",
    "best_so_far: Optional[float] = None # allowed to be either a float or None\n",
    "    \n",
    "from typing import Dict, Iterable, Tuple\n",
    "counts: Dict[str, int] = {'data': 1, 'science': 2}\n",
    "triple: Tuple[int, float, int] = (10, 2.3, 5)"
   ]
  }
 ],
 "metadata": {
  "kernelspec": {
   "display_name": "Python 3 (ipykernel)",
   "language": "python",
   "name": "python3"
  },
  "language_info": {
   "codemirror_mode": {
    "name": "ipython",
    "version": 3
   },
   "file_extension": ".py",
   "mimetype": "text/x-python",
   "name": "python",
   "nbconvert_exporter": "python",
   "pygments_lexer": "ipython3",
   "version": "3.11.4"
  },
  "toc": {
   "toc_cell": false,
   "toc_number_sections": true,
   "toc_section_display": "block",
   "toc_threshold": 6,
   "toc_window_display": false
  },
  "toc_position": {
   "height": "677px",
   "left": "1195.02px",
   "right": "20px",
   "top": "78px",
   "width": "238px"
  }
 },
 "nbformat": 4,
 "nbformat_minor": 4
}
